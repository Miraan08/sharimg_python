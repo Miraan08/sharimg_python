{
 "cells": [
  {
   "cell_type": "code",
   "execution_count": 1,
   "id": "25c51712",
   "metadata": {},
   "outputs": [
    {
     "name": "stdout",
     "output_type": "stream",
     "text": [
      "[4, 'a', 9]\n"
     ]
    }
   ],
   "source": [
    "list = [4,\"a\",9]\n",
    "print(list)"
   ]
  },
  {
   "cell_type": "code",
   "execution_count": 4,
   "id": "49c58d5d",
   "metadata": {},
   "outputs": [
    {
     "data": {
      "text/plain": [
       "2"
      ]
     },
     "execution_count": 4,
     "metadata": {},
     "output_type": "execute_result"
    }
   ],
   "source": [
    "list = [4,\"a\",9]\n",
    "list.index(9)"
   ]
  },
  {
   "cell_type": "code",
   "execution_count": 11,
   "id": "2893b0dd",
   "metadata": {},
   "outputs": [
    {
     "name": "stdout",
     "output_type": "stream",
     "text": [
      "a\n"
     ]
    }
   ],
   "source": [
    "list = [4,\"a\",9]\n",
    "print(list[1])"
   ]
  },
  {
   "cell_type": "code",
   "execution_count": 9,
   "id": "db990456",
   "metadata": {},
   "outputs": [
    {
     "data": {
      "text/plain": [
       "0"
      ]
     },
     "execution_count": 9,
     "metadata": {},
     "output_type": "execute_result"
    }
   ],
   "source": [
    "list2 = [\"Hello\", [4,8,9],[\"World\"]]\n",
    "list2.index(\"Hello\")"
   ]
  },
  {
   "cell_type": "code",
   "execution_count": 10,
   "id": "c659b7f3",
   "metadata": {},
   "outputs": [
    {
     "name": "stdout",
     "output_type": "stream",
     "text": [
      "9\n"
     ]
    }
   ],
   "source": [
    "list2 = [\"Hello\", [4,8,9],[\"World\"]]\n",
    "print(list2[1][2])\n",
    "                           \n",
    "                           "
   ]
  },
  {
   "cell_type": "code",
   "execution_count": 17,
   "id": "6b092acf",
   "metadata": {},
   "outputs": [
    {
     "name": "stdout",
     "output_type": "stream",
     "text": [
      "['o', 'g', 'r']\n",
      "['p', 'r', 'o', 'g']\n",
      "['z', 'i', 'm', 'a', 'r', 'g', 'o', 'r', 'p']\n"
     ]
    }
   ],
   "source": [
    "list_3 = [\"p\",\"r\",\"o\",\"g\",\"r\",\"a\",\"m\",\"i\",\"z\"]\n",
    "print(list_3[2:5])\n",
    "print(list_3[:-5])\n",
    "print(list_3[: :-1])"
   ]
  },
  {
   "cell_type": "markdown",
   "id": "86578815",
   "metadata": {},
   "source": []
  },
  {
   "cell_type": "code",
   "execution_count": 23,
   "id": "b00b5add",
   "metadata": {},
   "outputs": [
    {
     "name": "stdout",
     "output_type": "stream",
     "text": [
      "[1, 4, 6, 8]\n",
      "[1, 3, 5, 7]\n"
     ]
    }
   ],
   "source": [
    "list_4 = [2, 4, 6, 8]\n",
    "list_4[0]= 1\n",
    "print(list_4)\n",
    "list_4[1:4]= [3, 5 , 7]\n",
    "print(list_4)"
   ]
  },
  {
   "cell_type": "code",
   "execution_count": 28,
   "id": "0db81dc9",
   "metadata": {},
   "outputs": [
    {
     "name": "stdout",
     "output_type": "stream",
     "text": [
      "['p', 'r', 'b', 'l', 'e', 'm']\n",
      "['p', 'm']\n"
     ]
    },
    {
     "ename": "NameError",
     "evalue": "name 'list_5' is not defined",
     "output_type": "error",
     "traceback": [
      "\u001b[1;31m---------------------------------------------------------------------------\u001b[0m",
      "\u001b[1;31mNameError\u001b[0m                                 Traceback (most recent call last)",
      "Input \u001b[1;32mIn [28]\u001b[0m, in \u001b[0;36m<cell line: 8>\u001b[1;34m()\u001b[0m\n\u001b[0;32m      5\u001b[0m \u001b[38;5;28mprint\u001b[39m(list_5)\n\u001b[0;32m      7\u001b[0m \u001b[38;5;28;01mdel\u001b[39;00m list_5\n\u001b[1;32m----> 8\u001b[0m \u001b[38;5;28mprint\u001b[39m(\u001b[43mlist_5\u001b[49m)\n",
      "\u001b[1;31mNameError\u001b[0m: name 'list_5' is not defined"
     ]
    }
   ],
   "source": [
    "list_5 = [\"p\", \"r\", 'o', 'b', 'l', 'e', 'm']\n",
    "del list_5[2]\n",
    "print(list_5)\n",
    "del list_5[1:5]\n",
    "print(list_5)\n",
    "\n",
    "del list_5\n",
    "print(list_5)"
   ]
  },
  {
   "cell_type": "markdown",
   "id": "d6cabbe8",
   "metadata": {},
   "source": [
    "###### "
   ]
  },
  {
   "cell_type": "code",
   "execution_count": 32,
   "id": "298375ff",
   "metadata": {},
   "outputs": [
    {
     "name": "stdout",
     "output_type": "stream",
     "text": [
      "['p', 'r', 'o', 'b', 'l', 'e', 'm', 9]\n",
      "['p', 'r', 'o', 'b', 'l', 'e', 'm', 9, 'p', 'r', 'o', 'b', 'l', 'e', 'm', 9]\n"
     ]
    }
   ],
   "source": [
    "list_6 = [\"p\", \"r\", 'o', 'b', 'l', 'e', 'm']\n",
    "list_6.append(9)\n",
    "print(list_6)\n",
    "list_6.extend(list_6)\n",
    "print(list_6)"
   ]
  },
  {
   "cell_type": "code",
   "execution_count": 39,
   "id": "059a0309",
   "metadata": {},
   "outputs": [
    {
     "name": "stdout",
     "output_type": "stream",
     "text": [
      "27\n",
      "[9, 8, 7, 3, 0]\n"
     ]
    },
    {
     "data": {
      "text/plain": [
       "[0, 3, 7, 8, 9]"
      ]
     },
     "execution_count": 39,
     "metadata": {},
     "output_type": "execute_result"
    }
   ],
   "source": [
    "list_7 = [7, 8, 3, 9, 0]\n",
    "print(sum(list_7))\n",
    "list_7.sort(reverse = True)\n",
    "print(list_7)\n",
    "sorted(list_7)"
   ]
  },
  {
   "cell_type": "code",
   "execution_count": 54,
   "id": "14e35677",
   "metadata": {},
   "outputs": [
    {
     "name": "stdout",
     "output_type": "stream",
     "text": [
      "4\n"
     ]
    }
   ],
   "source": [
    "list_8 = [1, 2, 3, 4, 5, 6]\n",
    "print(list_8.pop(3))"
   ]
  },
  {
   "cell_type": "code",
   "execution_count": 56,
   "id": "a6590cdf",
   "metadata": {},
   "outputs": [
    {
     "name": "stdout",
     "output_type": "stream",
     "text": [
      "[2, 3, 4]\n"
     ]
    }
   ],
   "source": [
    "list_9= [1, 2, 3, 4,]\n",
    "list_9.remove(1)\n",
    "print(list_9)"
   ]
  },
  {
   "cell_type": "code",
   "execution_count": 62,
   "id": "5704f060",
   "metadata": {},
   "outputs": [
    {
     "name": "stdout",
     "output_type": "stream",
     "text": [
      "[3, 7, 11]\n"
     ]
    }
   ],
   "source": [
    "list1 = [1, 3, 5]\n",
    "list2 = [2, 4, 6]\n",
    "list3 = [i + j for i, j in zip(list1,list2)] \n",
    "print(list3)"
   ]
  },
  {
   "cell_type": "code",
   "execution_count": 69,
   "id": "6df9b1a2",
   "metadata": {},
   "outputs": [
    {
     "name": "stdout",
     "output_type": "stream",
     "text": [
      "[1, 4, 9, 16, 25, 36, 49]\n"
     ]
    }
   ],
   "source": [
    "num = [1, 2, 3, 4, 5, 6, 7]\n",
    "res = [x * x for x in num]\n",
    "print(res)"
   ]
  },
  {
   "cell_type": "code",
   "execution_count": 72,
   "id": "4e1ced6c",
   "metadata": {},
   "outputs": [
    {
     "name": "stdout",
     "output_type": "stream",
     "text": [
      "[1, 4, 9, 16, 25, 36, 49]\n"
     ]
    }
   ],
   "source": [
    "num = [1, 2, 3, 4, 5, 6, 7]\n",
    "res = []\n",
    "for i in num:\n",
    "    res.append(i * i)\n",
    "print(res)"
   ]
  },
  {
   "cell_type": "code",
   "execution_count": 76,
   "id": "bab7cf12",
   "metadata": {},
   "outputs": [
    {
     "name": "stdout",
     "output_type": "stream",
     "text": [
      "['Hello Dear', 'Hello Sir', 'Take Dear', 'Take Sir']\n"
     ]
    }
   ],
   "source": [
    "list1 = [\"Hello\", \"Take\"]\n",
    "list2 = [\" Dear\", \" Sir\"]\n",
    "res = [x + y for x in list1 for y in list2]\n",
    "print(res)\n"
   ]
  },
  {
   "cell_type": "code",
   "execution_count": 77,
   "id": "70eeb216",
   "metadata": {},
   "outputs": [
    {
     "name": "stdout",
     "output_type": "stream",
     "text": [
      "10 400\n",
      "20 300\n",
      "30 200\n",
      "40 100\n"
     ]
    }
   ],
   "source": [
    "list1 = [10, 20 ,30, 40]\n",
    "list2 = [100, 200, 300, 400]\n",
    "for x, y in zip(list1,list2[::-1]):\n",
    "    print(x, y)"
   ]
  },
  {
   "cell_type": "code",
   "execution_count": 1,
   "id": "0d2be645",
   "metadata": {},
   "outputs": [
    {
     "name": "stdout",
     "output_type": "stream",
     "text": [
      "['Mike', 'Sully']\n"
     ]
    }
   ],
   "source": [
    "list1 = [\"Mike\", \"\", \"Sully\"]\n",
    "res = list(filter(None, list1))\n",
    "print(res)"
   ]
  }
 ],
 "metadata": {
  "kernelspec": {
   "display_name": "Python 3 (ipykernel)",
   "language": "python",
   "name": "python3"
  },
  "language_info": {
   "codemirror_mode": {
    "name": "ipython",
    "version": 3
   },
   "file_extension": ".py",
   "mimetype": "text/x-python",
   "name": "python",
   "nbconvert_exporter": "python",
   "pygments_lexer": "ipython3",
   "version": "3.9.12"
  }
 },
 "nbformat": 4,
 "nbformat_minor": 5
}
