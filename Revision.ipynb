{
 "cells": [
  {
   "cell_type": "code",
   "execution_count": 2,
   "id": "7a511a6d",
   "metadata": {},
   "outputs": [
    {
     "name": "stdout",
     "output_type": "stream",
     "text": [
      "Enter a number:8\n",
      "The number 8 is even\n"
     ]
    }
   ],
   "source": [
    "num = int(input(\"Enter a number:\"))\n",
    "if num % 2 == 1:\n",
    "    print(\"The number\", num, \"is odd\")\n",
    "else:\n",
    "    print(\"The number\", num, \"is even\")"
   ]
  },
  {
   "cell_type": "code",
   "execution_count": 27,
   "id": "e8013cc6",
   "metadata": {},
   "outputs": [
    {
     "name": "stdout",
     "output_type": "stream",
     "text": [
      "Enter a number:8\n",
      "8 is not a prime number\n"
     ]
    }
   ],
   "source": [
    "num = int(input(\"Enter a number:\"))\n",
    "if num == 0 or num == 1:\n",
    "    print(num,\"is not a prime number\")\n",
    "elif num > 1:\n",
    "    for i in range(2,num):\n",
    "        if(num % i) == 0:\n",
    "            print(num, \"is not a prime number\")\n",
    "            break\n",
    "    else:\n",
    "        print(num, \"is a prime number\")"
   ]
  },
  {
   "cell_type": "code",
   "execution_count": 29,
   "id": "1aa4c290",
   "metadata": {},
   "outputs": [
    {
     "name": "stdout",
     "output_type": "stream",
     "text": [
      "Enter a number:111\n",
      "3\n"
     ]
    }
   ],
   "source": [
    "n = int(input(\"Enter a number:\"))\n",
    "def getsum(n):\n",
    "    sum = 0\n",
    "    for digit in str(n):\n",
    "        sum += int(digit)\n",
    "    return sum\n",
    "print(getsum(n))"
   ]
  },
  {
   "cell_type": "code",
   "execution_count": 34,
   "id": "25ca0bf5",
   "metadata": {},
   "outputs": [
    {
     "name": "stdout",
     "output_type": "stream",
     "text": [
      "Enter a word:Mom\n",
      "no\n"
     ]
    }
   ],
   "source": [
    "s = input(\"Enter a word:\")\n",
    "def isPalindrome(s):\n",
    "    return s == s[::-1]\n",
    "\n",
    "ans = isPalindrome(s)\n",
    "if ans:\n",
    "    print(\"yes\")\n",
    "else:\n",
    "    print(\"no\")"
   ]
  },
  {
   "cell_type": "code",
   "execution_count": 55,
   "id": "497446ec",
   "metadata": {},
   "outputs": [
    {
     "name": "stdout",
     "output_type": "stream",
     "text": [
      "[[[1 2]]\n",
      "\n",
      " [[3 4]]\n",
      "\n",
      " [[5 6]]]\n"
     ]
    }
   ],
   "source": [
    "import numpy as np\n",
    "arr = np.array([[], [],[]])\n",
    "app1 = (np.append(1,2))\n",
    "app2 = (np.append(3,4))\n",
    "app3 = (np.append(5,6))\n",
    "arr = np.array([[app1], [app2],[app3]])\n",
    "print(arr)"
   ]
  },
  {
   "cell_type": "code",
   "execution_count": 89,
   "id": "44db308c",
   "metadata": {},
   "outputs": [
    {
     "name": "stdout",
     "output_type": "stream",
     "text": [
      "Enter a number:67\n",
      "Enter a number:98\n",
      "Enter a number:96\n",
      "Enter a number:23\n",
      "Enter a number:54\n",
      "Enter a number:76\n",
      "[[], [67, 98], [96, 23], [54, 76]]\n"
     ]
    }
   ],
   "source": [
    "l2=[[]]\n",
    "for i in range(0,3):\n",
    "     \n",
    "    l1=[]\n",
    "    for j in range(0,2):\n",
    "        x = int(input(\"Enter a number:\"))\n",
    "        l1.append(x)\n",
    "    l2.append(l1)\n",
    "print(l2)"
   ]
  }
 ],
 "metadata": {
  "kernelspec": {
   "display_name": "Python 3 (ipykernel)",
   "language": "python",
   "name": "python3"
  },
  "language_info": {
   "codemirror_mode": {
    "name": "ipython",
    "version": 3
   },
   "file_extension": ".py",
   "mimetype": "text/x-python",
   "name": "python",
   "nbconvert_exporter": "python",
   "pygments_lexer": "ipython3",
   "version": "3.9.12"
  }
 },
 "nbformat": 4,
 "nbformat_minor": 5
}
