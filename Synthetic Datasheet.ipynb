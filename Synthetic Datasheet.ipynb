{
 "cells": [
  {
   "cell_type": "code",
   "execution_count": 7,
   "id": "af76286c",
   "metadata": {},
   "outputs": [],
   "source": [
    "from faker import Faker"
   ]
  },
  {
   "cell_type": "code",
   "execution_count": 8,
   "id": "a2c935e9",
   "metadata": {},
   "outputs": [],
   "source": [
    "import pandas as pd"
   ]
  },
  {
   "cell_type": "code",
   "execution_count": 9,
   "id": "5bb23d59",
   "metadata": {},
   "outputs": [],
   "source": [
    "import random"
   ]
  },
  {
   "cell_type": "code",
   "execution_count": 14,
   "id": "a72f0fc7",
   "metadata": {},
   "outputs": [
    {
     "name": "stdout",
     "output_type": "stream",
     "text": [
      "                Name                      Email  \\\n",
      "0    David Patterson    wattsthomas@example.org   \n",
      "1        Randy Moore  nicolerobbins@example.net   \n",
      "2        Rose Watson      zachary33@example.org   \n",
      "3       Yvonne Kelly       kylecarr@example.com   \n",
      "4  Colleen Middleton   jamesheather@example.net   \n",
      "\n",
      "                                           Address         Phone Number  \\\n",
      "0           231 David Track,North Rodney, KY 51472         819.853.5068   \n",
      "1     06035 Watson Roads,South Aaronview, MH 75765     001-597-747-6105   \n",
      "2     187 Christopher Divide,South Megan, SC 06516  +1-515-397-1792x854   \n",
      "3  23816 Thompson Squares,New Danielport, NE 31857     696-922-0552x401   \n",
      "4                  PSC 7599, Box 1881,APO AP 38481     642.388.5771x217   \n",
      "\n",
      "  Date Of Birth  \n",
      "0    1968-02-07  \n",
      "1    1960-11-13  \n",
      "2    1956-06-26  \n",
      "3    1968-01-31  \n",
      "4    1983-11-15  \n"
     ]
    }
   ],
   "source": [
    "fake = Faker()\n",
    "num_records = 10\n",
    "data = {\n",
    "    \"Name\":[fake.name()for _ in range(num_records)],\n",
    "    \"Email\":[fake.email()for _ in range(num_records)],\n",
    "    \"Address\":[fake.address().replace(\"\\n\",\",\")for _ in range(num_records)],\n",
    "    \"Phone Number\":[fake.phone_number()for _ in range(num_records)],\n",
    "    \"Date Of Birth\":[fake.date_of_birth(minimum_age=18,maximum_age=80)for _ in range(num_records)],\n",
    "}\n",
    "df = pd.DataFrame(data)\n",
    "df.to_csv(\"synthetic_data.csv\",index= False)\n",
    "print(df.head())"
   ]
  },
  {
   "cell_type": "code",
   "execution_count": 15,
   "id": "55e03416",
   "metadata": {},
   "outputs": [
    {
     "name": "stdout",
     "output_type": "stream",
     "text": [
      "2025-01-01 15:25:13.491291\n",
      "2025\n",
      "1\n",
      "1\n",
      "2\n",
      "15\n"
     ]
    }
   ],
   "source": [
    "t = pd.Timestamp.today()\n",
    "print(t)\n",
    "print(t.year)\n",
    "print(t.month)\n",
    "print(t.day)\n",
    "print(t.day_of_week)\n",
    "print(t.hour)"
   ]
  }
 ],
 "metadata": {
  "kernelspec": {
   "display_name": "Python 3 (ipykernel)",
   "language": "python",
   "name": "python3"
  },
  "language_info": {
   "codemirror_mode": {
    "name": "ipython",
    "version": 3
   },
   "file_extension": ".py",
   "mimetype": "text/x-python",
   "name": "python",
   "nbconvert_exporter": "python",
   "pygments_lexer": "ipython3",
   "version": "3.9.12"
  }
 },
 "nbformat": 4,
 "nbformat_minor": 5
}
